{
 "cells": [
  {
   "metadata": {
    "ExecuteTime": {
     "end_time": "2025-07-29T17:17:21.096410Z",
     "start_time": "2025-07-29T17:17:20.926539Z"
    }
   },
   "cell_type": "code",
   "source": [
    "import io.github.shalva97.di.initOversearchApp\n",
    "\n",
    "initOversearchApp()\n"
   ],
   "outputs": [],
   "execution_count": 1
  },
  {
   "metadata": {
    "ExecuteTime": {
     "end_time": "2025-07-29T17:17:23.428836Z",
     "start_time": "2025-07-29T17:17:22.751369Z"
    }
   },
   "cell_type": "code",
   "source": [
    "import io.github.shalva97.di.initOversearchApp\n",
    "import io.github.shalva97.di.uiModule\n",
    "import io.github.shalva97.screens.search.SearchScreenViewModel\n",
    "import org.koin.core.context.startKoin\n",
    "import org.koin.mp.KoinPlatformTools\n",
    "import org.koin.core.component.KoinComponent\n",
    "import org.koin.core.component.inject\n",
    "import io.github.shalva97.overwatch_player_search_api.PlayerSearch\n",
    "\n",
    "\n",
    "object ViewModelProvider : KoinComponent {\n",
    "    val searchViewModel: SearchScreenViewModel by inject()\n",
    "}\n",
    "\n",
    "val viewModel = ViewModelProvider.searchViewModel\n",
    "\n",
    "viewModel\n"
   ],
   "outputs": [
    {
     "data": {
      "text/plain": [
       "io.github.shalva97.screens.search.SearchScreenViewModel@360149f0"
      ]
     },
     "execution_count": 2,
     "metadata": {},
     "output_type": "execute_result"
    }
   ],
   "execution_count": 2
  },
  {
   "metadata": {},
   "cell_type": "code",
   "outputs": [],
   "execution_count": null,
   "source": ""
  }
 ],
 "metadata": {
  "kernelspec": {
   "display_name": "Kotlin",
   "language": "kotlin",
   "name": "kotlin"
  },
  "language_info": {
   "name": "kotlin",
   "version": "2.2.20-dev-4982",
   "mimetype": "text/x-kotlin",
   "file_extension": ".kt",
   "pygments_lexer": "kotlin",
   "codemirror_mode": "text/x-kotlin",
   "nbconvert_exporter": ""
  },
  "ktnbPluginMetadata": {
   "projectLibraries": false,
   "projectDependencies": [
    "Oversearch.composeApp.desktopMain"
   ]
  }
 },
 "nbformat": 4,
 "nbformat_minor": 0
}
