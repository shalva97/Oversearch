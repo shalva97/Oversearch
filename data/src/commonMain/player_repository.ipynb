{
 "cells": [
  {
   "metadata": {
    "ExecuteTime": {
     "end_time": "2025-07-29T17:58:03.181002Z",
     "start_time": "2025-07-29T17:58:02.915050Z"
    }
   },
   "cell_type": "code",
   "source": [
    "import data.dataModule\n",
    "import org.koin.core.context.startKoin\n",
    "\n",
    "startKoin { modules(dataModule) }"
   ],
   "outputs": [
    {
     "data": {
      "text/plain": [
       "org.koin.core.KoinApplication@6063254e"
      ]
     },
     "execution_count": 1,
     "metadata": {},
     "output_type": "execute_result"
    }
   ],
   "execution_count": 1
  },
  {
   "metadata": {
    "ExecuteTime": {
     "end_time": "2025-07-29T17:58:15.101362Z",
     "start_time": "2025-07-29T17:58:14.615415Z"
    }
   },
   "cell_type": "code",
   "source": [
    "import data.PlayerRepository\n",
    "import org.koin.core.component.KoinComponent\n",
    "import org.koin.core.component.inject\n",
    "\n",
    "object PlayerRepositoryRetriever : KoinComponent {\n",
    "    val repository: PlayerRepository by inject()\n",
    "}\n",
    "\n",
    "val playerRepository = PlayerRepositoryRetriever.repository"
   ],
   "outputs": [],
   "execution_count": 2
  },
  {
   "metadata": {
    "ExecuteTime": {
     "end_time": "2025-07-29T18:05:33.514007Z",
     "start_time": "2025-07-29T18:05:28.095284Z"
    }
   },
   "cell_type": "code",
   "source": "%use dataframe",
   "outputs": [],
   "execution_count": 5
  },
  {
   "metadata": {
    "ExecuteTime": {
     "end_time": "2025-07-29T18:06:52.468078Z",
     "start_time": "2025-07-29T18:06:52.204001Z"
    }
   },
   "cell_type": "code",
   "source": [
    "import kotlinx.coroutines.launch\n",
    "import kotlinx.coroutines.runBlocking\n",
    "\n",
    "runBlocking {\n",
    "    playerRepository.search(\"Senna\")\n",
    "}"
   ],
   "outputs": [
    {
     "data": {
      "text/plain": [
       "[Player(username=SeNNA#3605, image=https://d15f34w2p8l1cc.cloudfront.net/overwatch/867041e5d32f26aa178d3d7166dc3ea72c2a51303c44d70b1624a24bdf72f12d.png, backgroundImage=https://d15f34w2p8l1cc.cloudfront.net/overwatch/2238c652dbc8b3983c49023eb5acd8a17baad5711f065bb1af81dfb96b71b42e.png, title=Assassin), Player(username=Senna#21404, image=https://d15f34w2p8l1cc.cloudfront.net/overwatch/6f2e5f5c6c5b170dbb08b074684b36a701f81b27073e5822a6e5829983c3ef2c.png, backgroundImage=https://d15f34w2p8l1cc.cloudfront.net/overwatch/c4853799387f7510d5b3d0f681efcfc812801044bcaaac18e2ec35871b6e45eb.png, title=Nulltrooper), Player(username=Senna#21148, image=https://d15f34w2p8l1cc.cloudfront.net/overwatch/ac5d3cf8bb5b98673f0170564a2cd4744fd1d726cce810654a117f57c1af46dc.png, backgroundImage=https://d15f34w2p8l1cc.cloudfront.net/overwatch/66d7e309043e0ab6ea96da401680e4d9162ccf407b68e89f561fcbb565b9cf29.png, title=No Title), Player(username=Senna#11374, image=https://d15f34w2p8l1cc.cloudfront.net/overwatch/ce04bd213bc83e1c54a9b0791cbb7a898e21d49b1ce53714f4dbc4fc1f6b07d9.png, backgroundImage=https://d15f34w2p8l1cc.cloudfront.net/overwatch/4565e481953f18de9150e966a5bfd692d91df07d038da7d773acdc94030205a7.png, title=No Title), Player(username=Senna#21925, image=https://d15f34w2p8l1cc.cloudfront.net/overwatch/2a554a8b3c850588476a28b2f41bb0e240c8f083167f756a064eafa7e5400fb5.png, backgroundImage=https://d15f34w2p8l1cc.cloudfront.net/overwatch/4565e481953f18de9150e966a5bfd692d91df07d038da7d773acdc94030205a7.png, title=No Title), Player(username=Senna#21990, image=https://d15f34w2p8l1cc.cloudfront.net/overwatch/929aca1773f40ce3327b8b8a470a5c32f3350fc418ab3fb68fefe8a2cea34656.png, backgroundImage=https://d15f34w2p8l1cc.cloudfront.net/overwatch/280790a450f2e1540f62c855f0f4aebf14e4278723c9d0442415ce2b574ed2eb.png, title=Stalwart Hero), Player(username=Senna#21539, image=https://d15f34w2p8l1cc.cloudfront.net/overwatch/c3090e3a1dccc58f143ff53801bc0cecb139f0eb1278f157d0b5e29db9104bed.png, backgroundImage=https://d15f34w2p8l1cc.cloudfront.net/overwatch/4565e481953f18de9150e966a5bfd692d91df07d038da7d773acdc94030205a7.png, title=No Title), Player(username=Senna#21234, image=https://d15f34w2p8l1cc.cloudfront.net/overwatch/661b089e3e5fc7c991ab327f7a08259a20209cae156cdb9f471afb3d1cbbccf0.png, backgroundImage=https://d15f34w2p8l1cc.cloudfront.net/overwatch/1df212179ec09a2be11912966d74e70e4e76e741b74f567ed2095c9cf9c08945.png, title=Extraterrestrial), Player(username=SENNA#31871, image=https://d15f34w2p8l1cc.cloudfront.net/overwatch/ce04bd213bc83e1c54a9b0791cbb7a898e21d49b1ce53714f4dbc4fc1f6b07d9.png, backgroundImage=https://d15f34w2p8l1cc.cloudfront.net/overwatch/4565e481953f18de9150e966a5bfd692d91df07d038da7d773acdc94030205a7.png, title=Sage), Player(username=Senna#21410, image=https://d15f34w2p8l1cc.cloudfront.net/overwatch/8fb752e425af261dff0c2fb39535e06f9b110dfafcde7c8df321bc836811ba59.png, backgroundImage=https://d15f34w2p8l1cc.cloudfront.net/overwatch/a576197aebf6f0221cc8ab7547e5dca36c9e642018d500b444db73dc9a08741f.png, title=No Title), Player(username=Senna#11894, image=https://d15f34w2p8l1cc.cloudfront.net/overwatch/c3090e3a1dccc58f143ff53801bc0cecb139f0eb1278f157d0b5e29db9104bed.png, backgroundImage=https://d15f34w2p8l1cc.cloudfront.net/overwatch/4565e481953f18de9150e966a5bfd692d91df07d038da7d773acdc94030205a7.png, title=No Title), Player(username=Senna#21538, image=https://d15f34w2p8l1cc.cloudfront.net/overwatch/5a72fff5086bc1f85690f9a15f31384a047c7beba1825b811001b52532417972.png, backgroundImage=https://d15f34w2p8l1cc.cloudfront.net/overwatch/59fd62bca585b43d480d8c4868f40309e1eda3d1a73955f1396847d9d562aad8.png, title=No Title), Player(username=Senna#11989, image=https://d15f34w2p8l1cc.cloudfront.net/overwatch/c3090e3a1dccc58f143ff53801bc0cecb139f0eb1278f157d0b5e29db9104bed.png, backgroundImage=https://d15f34w2p8l1cc.cloudfront.net/overwatch/4565e481953f18de9150e966a5bfd692d91df07d038da7d773acdc94030205a7.png, title=No Title), Player(username=Senna#31341, image=https://d15f34w2p8l1cc.cloudfront.net/overwatch/219efa7d710632bfe16c7452d2300633d6f88683e192ed5728395b496bf69fee.png, backgroundImage=null, title=Diamond Open Challenger), Player(username=Senna#11633, image=https://d15f34w2p8l1cc.cloudfront.net/overwatch/ce04bd213bc83e1c54a9b0791cbb7a898e21d49b1ce53714f4dbc4fc1f6b07d9.png, backgroundImage=https://d15f34w2p8l1cc.cloudfront.net/overwatch/4565e481953f18de9150e966a5bfd692d91df07d038da7d773acdc94030205a7.png, title=No Title), Player(username=Senna#11341, image=https://d15f34w2p8l1cc.cloudfront.net/overwatch/eb14f7a5a04263bbb6f643fc4d9638edd18d4d92c19576df3ab30c52ea97c15f.png, backgroundImage=null, title=null), Player(username=Senna#11725, image=https://d15f34w2p8l1cc.cloudfront.net/overwatch/21b9e01301442344ccf132814d3e07d3e5e84d55f7f36e5bdf53dea4a004e7f0.png, backgroundImage=https://d15f34w2p8l1cc.cloudfront.net/overwatch/57dbcb94de4769ddf9c460368184ebdad13f8be9accb914be491a86adaffbb4a.png, title=No Title), Player(username=senna#31998, image=https://d15f34w2p8l1cc.cloudfront.net/overwatch/2a554a8b3c850588476a28b2f41bb0e240c8f083167f756a064eafa7e5400fb5.png, backgroundImage=null, title=No Title), Player(username=Senna#21787, image=https://d15f34w2p8l1cc.cloudfront.net/overwatch/b801ed387295f67be7325b5abc70e9c038c80cacb84d15253acb1e6f353ffba1.png, backgroundImage=https://d15f34w2p8l1cc.cloudfront.net/overwatch/4565e481953f18de9150e966a5bfd692d91df07d038da7d773acdc94030205a7.png, title=No Title), Player(username=senna#11124, image=https://d15f34w2p8l1cc.cloudfront.net/overwatch/1d754ab4338bb097f0bb7d69fe4f14c41599bc5b3ea5fa21fef68a5a1b4f9796.png, backgroundImage=https://d15f34w2p8l1cc.cloudfront.net/overwatch/8e70e8706735a68b0761474199405be3efa5d98bbaa58a75ce1eca531626da64.png, title=No Title), Player(username=Senna#11614, image=https://d15f34w2p8l1cc.cloudfront.net/overwatch/7f34e61480da00ddffa12d9cbdf8507649f1cc98ae7492dc37238f5bcfa2952f.png, backgroundImage=https://d15f34w2p8l1cc.cloudfront.net/overwatch/280790a450f2e1540f62c855f0f4aebf14e4278723c9d0442415ce2b574ed2eb.png, title=No Title), Player(username=Senna#21253, image=null, backgroundImage=https://d15f34w2p8l1cc.cloudfront.net/overwatch/757219956129146d84617a7e713dfca1bc33ea27cf6c73df60a33d02a147edc1.png, title=Assassin), Player(username=SENNA#11471, image=https://d15f34w2p8l1cc.cloudfront.net/overwatch/060f325d17bb93da3cf5b4c308708165aeeb7211a33dd928729f42db720855b4.png, backgroundImage=https://d15f34w2p8l1cc.cloudfront.net/overwatch/c7ca4d4aea7c8ae114aa56a394bc9862b396f4ddff9fd0b5f865fb473a750b52.png, title=Monstrosity), Player(username=senna#31873, image=https://d15f34w2p8l1cc.cloudfront.net/overwatch/2a554a8b3c850588476a28b2f41bb0e240c8f083167f756a064eafa7e5400fb5.png, backgroundImage=https://d15f34w2p8l1cc.cloudfront.net/overwatch/4565e481953f18de9150e966a5bfd692d91df07d038da7d773acdc94030205a7.png, title=No Title), Player(username=Senna#21274, image=https://d15f34w2p8l1cc.cloudfront.net/overwatch/55fcbfdc7bbaaf34c543900c87bd14ca0470de5cb33c4dbd9c64d5134705dcbf.png, backgroundImage=https://d15f34w2p8l1cc.cloudfront.net/overwatch/c6b17fb14189b6fabbf86eb507fc5a39d3952a44ca65d530d7c1df0fa83d4569.png, title=No Title), Player(username=Senna#11862, image=https://d15f34w2p8l1cc.cloudfront.net/overwatch/9973418b7199301d60448e985e11ef594d76fd062df8c4439d9355af1b232d85.png, backgroundImage=https://d15f34w2p8l1cc.cloudfront.net/overwatch/4565e481953f18de9150e966a5bfd692d91df07d038da7d773acdc94030205a7.png, title=No Title), Player(username=SennA#21780, image=https://d15f34w2p8l1cc.cloudfront.net/overwatch/c3090e3a1dccc58f143ff53801bc0cecb139f0eb1278f157d0b5e29db9104bed.png, backgroundImage=https://d15f34w2p8l1cc.cloudfront.net/overwatch/60e5fde59b2e36570213ea64f210c175ee4538280c1cee71abf4dab18eb967a8.png, title=null), Player(username=Senna#21273, image=null, backgroundImage=null, title=Diamond Open Challenger), Player(username=Senna#21786, image=https://d15f34w2p8l1cc.cloudfront.net/overwatch/21b9e01301442344ccf132814d3e07d3e5e84d55f7f36e5bdf53dea4a004e7f0.png, backgroundImage=https://d15f34w2p8l1cc.cloudfront.net/overwatch/4565e481953f18de9150e966a5bfd692d91df07d038da7d773acdc94030205a7.png, title=No Title), Player(username=senna#1266, image=https://d15f34w2p8l1cc.cloudfront.net/overwatch/4bb8f59eb716f8fd4cfa9bc2fac0dc1252fad6244060b1fe0eace33b9f7421da.png, backgroundImage=https://d15f34w2p8l1cc.cloudfront.net/overwatch/e6c8ee1dff8fe800316368c158dea07434c498a9e51a5843a2170200e6ccc5d8.png, title=Haunted Shadow), Player(username=Senna#31848, image=https://d15f34w2p8l1cc.cloudfront.net/overwatch/448f7b15548c630725e94338d0ffc783b30004748390b5370470f79c98c55a78.png, backgroundImage=https://d15f34w2p8l1cc.cloudfront.net/overwatch/4565e481953f18de9150e966a5bfd692d91df07d038da7d773acdc94030205a7.png, title=No Title), Player(username=SENNA#21397, image=https://d15f34w2p8l1cc.cloudfront.net/overwatch/1486ecfd80375eb02760657f7b54e04fe9a061fa89a516952daf0d4220cfb322.png, backgroundImage=https://d15f34w2p8l1cc.cloudfront.net/overwatch/4565e481953f18de9150e966a5bfd692d91df07d038da7d773acdc94030205a7.png, title=No Title), Player(username=senna#21265, image=https://d15f34w2p8l1cc.cloudfront.net/overwatch/2a8844c26a6304e2e080165acb2d361084712eb374f6d04205724f866a5cd8bb.png, backgroundImage=https://d15f34w2p8l1cc.cloudfront.net/overwatch/4565e481953f18de9150e966a5bfd692d91df07d038da7d773acdc94030205a7.png, title=No Title), Player(username=Senna#11355, image=https://d15f34w2p8l1cc.cloudfront.net/overwatch/1486ecfd80375eb02760657f7b54e04fe9a061fa89a516952daf0d4220cfb322.png, backgroundImage=https://d15f34w2p8l1cc.cloudfront.net/overwatch/4565e481953f18de9150e966a5bfd692d91df07d038da7d773acdc94030205a7.png, title=No Title)]"
      ]
     },
     "execution_count": 7,
     "metadata": {},
     "output_type": "execute_result"
    }
   ],
   "execution_count": 7
  }
 ],
 "metadata": {
  "kernelspec": {
   "display_name": "Kotlin",
   "language": "kotlin",
   "name": "kotlin"
  },
  "language_info": {
   "name": "kotlin",
   "version": "2.2.20-dev-4982",
   "mimetype": "text/x-kotlin",
   "file_extension": ".kt",
   "pygments_lexer": "kotlin",
   "codemirror_mode": "text/x-kotlin",
   "nbconvert_exporter": ""
  },
  "ktnbPluginMetadata": {
   "projectDependencies": [
    "Oversearch.data.jvmMain"
   ],
   "projectLibraries": false
  }
 },
 "nbformat": 4,
 "nbformat_minor": 0
}
